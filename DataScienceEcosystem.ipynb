{
 "cells": [
  {
   "cell_type": "markdown",
   "id": "3e019b61-38d0-4d3f-a6b6-0cd71885166e",
   "metadata": {},
   "source": [
    "# Data Science Tools and Ecosystem"
   ]
  },
  {
   "cell_type": "markdown",
   "id": "87ce8d18-ed35-4f57-b50b-4b01afaf105d",
   "metadata": {},
   "source": [
    "In this notebook, Data Science Tools and Ecosystems are summarized"
   ]
  },
  {
   "cell_type": "markdown",
   "id": "b56e7eba-25b3-476e-a750-04dabd8d5e2f",
   "metadata": {},
   "source": [
    "Objectives:\n",
    "- Popular Languages\n",
    "- Libraries\n",
    "- Tools"
   ]
  },
  {
   "cell_type": "markdown",
   "id": "e9171ee5-0fab-4d7a-8181-b526e617c64a",
   "metadata": {},
   "source": [
    "Some of the popular languages that Data Scientists use are:\n",
    "1. Python\n",
    "2. R\n",
    "3. SQL\n",
    "4. Java Script"
   ]
  },
  {
   "cell_type": "markdown",
   "id": "e6ec6ae5-bb27-41c7-8b43-98750f94e4b9",
   "metadata": {},
   "source": [
    "Some of the commonly used libraries used by Data Scientists include:\n",
    "1. Pandas\n",
    "2. dplyr\n",
    "3. Numpy\n",
    "4. SciKitLearn"
   ]
  },
  {
   "cell_type": "markdown",
   "id": "56e9e2e4-dc43-4ba8-87d2-d29c64f7a857",
   "metadata": {
    "tags": []
   },
   "source": [
    "| Data Science Tools   |\n",
    "|-----------------------|\n",
    "| Jupyter Notebook      |\n",
    "| RStudio              |\n",
    "| Visual Studio Code   |"
   ]
  },
  {
   "cell_type": "markdown",
   "id": "7692c878-908c-4ae9-b07d-f23bdb9d86f6",
   "metadata": {},
   "source": [
    "### Below are a few examples of how you an evaluate arithmetic expressions in python"
   ]
  },
  {
   "cell_type": "code",
   "execution_count": 3,
   "id": "9a61786d-6d9d-42dd-9932-b912603f245f",
   "metadata": {
    "tags": []
   },
   "outputs": [
    {
     "name": "stdout",
     "output_type": "stream",
     "text": [
      "17\n"
     ]
    }
   ],
   "source": [
    "# This is a simple arithmetic expression to multiply then add integers\n",
    "print((3*4)+5)"
   ]
  },
  {
   "cell_type": "code",
   "execution_count": 4,
   "id": "1e4923e7-aa37-495c-87aa-1b2f635b5327",
   "metadata": {
    "tags": []
   },
   "outputs": [
    {
     "name": "stdout",
     "output_type": "stream",
     "text": [
      "3.3333333333333335\n"
     ]
    }
   ],
   "source": [
    "# This code cell will convert 200 minutes to hours\n",
    "print(200/60)"
   ]
  },
  {
   "cell_type": "markdown",
   "id": "5dea0f79-0eaf-433e-93f1-69e19533da61",
   "metadata": {},
   "source": [
    "## Author\n",
    "Narayana Tennety"
   ]
  },
  {
   "cell_type": "code",
   "execution_count": null,
   "id": "b4d6b85e-696e-428d-8660-188dd27474f0",
   "metadata": {},
   "outputs": [],
   "source": []
  }
 ],
 "metadata": {
  "kernelspec": {
   "display_name": "Python 3 (ipykernel)",
   "language": "python",
   "name": "python3"
  },
  "language_info": {
   "codemirror_mode": {
    "name": "ipython",
    "version": 3
   },
   "file_extension": ".py",
   "mimetype": "text/x-python",
   "name": "python",
   "nbconvert_exporter": "python",
   "pygments_lexer": "ipython3",
   "version": "3.11.4"
  }
 },
 "nbformat": 4,
 "nbformat_minor": 5
}
